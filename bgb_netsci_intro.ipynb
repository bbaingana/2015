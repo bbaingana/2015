{
  "nbformat": 4,
  "nbformat_minor": 0,
  "metadata": {
    "colab": {
      "name": "bgb-netsci-intro.ipynb",
      "provenance": [],
      "collapsed_sections": [],
      "authorship_tag": "ABX9TyPupeQWCUdpcSwUyM4KVe1G",
      "include_colab_link": true
    },
    "kernelspec": {
      "name": "python3",
      "display_name": "Python 3"
    },
    "language_info": {
      "name": "python"
    }
  },
  "cells": [
    {
      "cell_type": "markdown",
      "metadata": {
        "id": "view-in-github",
        "colab_type": "text"
      },
      "source": [
        "<a href=\"https://colab.research.google.com/github/bbaingana/2015/blob/master/bgb_netsci_intro.ipynb\" target=\"_parent\"><img src=\"https://colab.research.google.com/assets/colab-badge.svg\" alt=\"Open In Colab\"/></a>"
      ]
    },
    {
      "cell_type": "markdown",
      "source": [
        "# Complex networks\n",
        "\n",
        "Networks are an are ubiquitous phenomenon, and underlie most complex systems that we generally take for granted. One of the foremost intellectual challenges of this century is to understand the network structure underlying complex systems, and to explore their mathematical properties. Such systems arise in both natural and engineered settings.\n",
        "\n",
        "Obvious examples include the Internet, the world-wide web, online social networks (e.g., Facebook, LinkedIn, Twitter), power grids, communications networks, transport networks, and supply chain networks. Less obvious examples arise in e.g., brain connectivity networks, disease transmission networks, and gene regulatory networks. \n",
        "\n",
        "On a fundamental level, a network is a flexible, general-purpose data structure that encodes pairwise interactions between constituent components of a system. For example, in a friendship network like Facebook, the components (a.k.a., nodes) are people, and a link exists between pairs of friends. Similarly, the world-wide web comprises web pages as nodes, and a link is established between pages if one page has a web link to another page.\n",
        "\n",
        "# A new science?\n",
        "\n",
        "Over the last few years, a new field of study, aptly named __Network Science__ has emerged to encompass intellectual endeavors pertaining to the study of networks and complexity.\n",
        "The key premise of network science is that despite the diversity of complex systems, the behavior of their underlying networks is driven by a common set of mathematical laws. \n",
        "\n",
        "\n",
        "Contemporary studies in network science focus on models and tools to understand, predict, and control the behavior of networks. For a detailed review of network science, Albert-Laszlo Barabasi has written an excellent book, available online: http://networksciencebook.com/.\n",
        "\n",
        "## Key topics in network science\n",
        "\n",
        "Like any other academic endeavor, network science aspires to address a number of critical questions. These include, but are not limited to:\n",
        "\n",
        "- __How do we map a complex system to a network?__ Networks leverage a mathematical structure, called a __graph__, in order to represent complex systems. A starting point for any network analysis starts with finding the correct level of abstraction of a system, so that the collection of nodes and links remains sufficient to study the system.\n",
        "\n",
        "- __Empirical properties of complex networks?__ Whether natural, or man-made, networks often exhibit remarkably similar mathematical properties. This line of investigation focuses on collecting network data, and leveraging descriptive statistics to draw empirical conclusions. Historically, collecting data on large-scale networks was computationally expensive and challenging. However, in the era of big data, computing tools exist to study networks on the scale of billions of nodes.\n",
        "\n",
        "- __Random networks__. Most naturally existing networks are random, but exhibit interesting patterns. Understanding network randomness, and how to develop probabilitic models that capture that randomness is critical to simulation of network behaviors, especially when dealing with e.g., pandemics.\n",
        "\n",
        "- __Dynamic networks__. The initial focus of network science was on the study of static networks, namely networks whose underlying linkage structure does not evolve over time. However, all networks evolve, some at faster time scales than others. There has been significant research effort devoted to extending the body of knowledge on static networks to understand the mathematical behavior of dynamic networks.\n",
        "\n",
        "# Other fields\n",
        "\n",
        "Early credit for studying complex networks goes to physicists, statisticians, and scholars in sociometrics. Over the last 10-15 years, there has been renewed interest in studying complex networks in disparate but related fields. A few of these fields are listed below:\n",
        "- Machine learning and artificial intelligence\n",
        "- Statistical signal processing\n",
        "- Network biology\n",
        "- Chemometrics \n",
        "\n"
      ],
      "metadata": {
        "id": "tzzBEU9yKOev"
      }
    }
  ]
}